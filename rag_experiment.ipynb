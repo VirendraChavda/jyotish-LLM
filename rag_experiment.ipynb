{
 "cells": [
  {
   "cell_type": "code",
   "execution_count": 3,
   "id": "618e6913",
   "metadata": {},
   "outputs": [],
   "source": [
    "# CSV document loader\n",
    "\n",
    "from langchain_community.document_loaders import PyPDFLoader\n",
    "loader1 = PyPDFLoader(r\"D:\\Interviews\\LangChain\\Jyotish\\data\\12-zodiac-signs-and-nakshatras.pdf\")\n",
    "\n",
    "data1 = loader1.load()"
   ]
  },
  {
   "cell_type": "code",
   "execution_count": 5,
   "id": "47e5b395",
   "metadata": {},
   "outputs": [
    {
     "name": "stdout",
     "output_type": "stream",
     "text": [
      "page_content='' metadata={'producer': 'calibre (5.16.1) [https://calibre-ebook.com]', 'creator': 'calibre (5.16.1) [https://calibre-ebook.com]', 'creationdate': '2021-05-07T11:12:36+00:00', 'author': 'Mari Silva', 'moddate': '2021-05-07T21:12:36+10:00', 'title': 'Hindu Astrology: A Guide to Vedic Astrology, the 12 Zodiac Signs and Nakshatras', 'source': 'D:\\\\Interviews\\\\LangChain\\\\Jyotish\\\\data\\\\12-zodiac-signs-and-nakshatras.pdf', 'total_pages': 260, 'page': 0, 'page_label': '1'}\n"
     ]
    }
   ],
   "source": [
    "print(data1[0])"
   ]
  },
  {
   "cell_type": "code",
   "execution_count": null,
   "id": "45d965a5",
   "metadata": {},
   "outputs": [],
   "source": []
  }
 ],
 "metadata": {
  "kernelspec": {
   "display_name": ".venv",
   "language": "python",
   "name": "python3"
  },
  "language_info": {
   "codemirror_mode": {
    "name": "ipython",
    "version": 3
   },
   "file_extension": ".py",
   "mimetype": "text/x-python",
   "name": "python",
   "nbconvert_exporter": "python",
   "pygments_lexer": "ipython3",
   "version": "3.10.10"
  }
 },
 "nbformat": 4,
 "nbformat_minor": 5
}
